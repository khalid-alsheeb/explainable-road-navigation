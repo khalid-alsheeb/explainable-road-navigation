{
 "cells": [
  {
   "cell_type": "code",
   "execution_count": 254,
   "metadata": {},
   "outputs": [],
   "source": [
    "# adding noWay & isClosed\n",
    "# Imports\n",
    "import networkx as nx\n",
    "import numpy as np\n",
    "import cvxpy as cp"
   ]
  },
  {
   "cell_type": "code",
   "execution_count": 255,
   "metadata": {},
   "outputs": [],
   "source": [
    "# Creating the test graph\n",
    "G = nx.MultiDiGraph()\n",
    "# G.add_edge(1, 2, weight=1, isNew=False)\n",
    "G.add_edge(1, 2, weight=3, noWay=0, isClosed=0, length=20, speed=18, maxSpeed=20)\n",
    "G.add_edge(1, 3, weight=5, noWay=0, isClosed=0, length=20, speed=15, maxSpeed=20)\n",
    "G.add_edge(2, 4, weight=1, noWay=0, isClosed=0, length=20, speed=10, maxSpeed=20)\n",
    "G.add_edge(3, 4, weight=5, noWay=0, isClosed=0, length=20, speed=7, maxSpeed=20)\n",
    "G.add_edge(4, 5, weight=5, noWay=0, isClosed=1, length=20, speed=5, maxSpeed=20)\n",
    "\n",
    "#list(G.edges(data=True))\n",
    "desiredPath = [1, 3, 4]"
   ]
  },
  {
   "cell_type": "code",
   "execution_count": 256,
   "metadata": {},
   "outputs": [],
   "source": [
    "# def addMissingEdges(graph):\n",
    "#     newGraph = graph.copy()\n",
    "    \n",
    "#     return newGraph"
   ]
  },
  {
   "cell_type": "code",
   "execution_count": 257,
   "metadata": {},
   "outputs": [],
   "source": [
    "def getInverseSpeed(speed):\n",
    "    return 1/speed\n",
    "def getSpeedFromInverse(inverse):\n",
    "    return 1/inverse"
   ]
  },
  {
   "cell_type": "code",
   "execution_count": 258,
   "metadata": {},
   "outputs": [],
   "source": [
    "#TODO: remove the weights from the edges, and calculate them using the variables.\n",
    "    # Change the objective, to ||v1' - v1|| + || v2' - v2|| + .... and so on.\n",
    "\n",
    "def inverseShortestPath(original_graph, desiredPath):\n",
    "    # auxiliary variables\n",
    "    \n",
    "    graph = original_graph.copy()\n",
    "\n",
    "    inf = 1000000\n",
    "        \n",
    "    n = len(graph.nodes())\n",
    "\n",
    "    m = len(graph.edges())\n",
    "    \n",
    "    source = desiredPath[0]\n",
    "    target = desiredPath[len(desiredPath) - 1]\n",
    "\n",
    "    weights = []\n",
    "    noWay = []\n",
    "    areClosed = []\n",
    "    inverseSpeeds = []\n",
    "    inverseMaxSpeeds = []\n",
    "    lengths = []\n",
    "\n",
    "    edges = []\n",
    "    edgeIndex = {}\n",
    "    for (i, j, data) in graph.edges(data=True):\n",
    "        # Edges Index\n",
    "        edgeIndex[i,j] = len(edges)\n",
    "        # Add edge\n",
    "        edges.append([i, j])\n",
    "        \n",
    "        # Data:\n",
    "        # Edge Weight\n",
    "        weights.append(data['weight'])\n",
    "        # (not) is there an edge:\n",
    "        noWay.append(data['noWay'])\n",
    "        # closed or not\n",
    "        areClosed.append(data['isClosed'])\n",
    "        #get the inverse of the speed\n",
    "        inverseSpeeds.append(getInverseSpeed(data['speed']))\n",
    "        #get the inverse of the max speed\n",
    "        inverseMaxSpeeds.append(getInverseSpeed(data['maxSpeed']))\n",
    "        \n",
    "        lengths.append(getInverseSpeed(data['length']))\n",
    "        \n",
    "        \n",
    "    # Add inverse edges with infinity weight\n",
    "    for (i, j) in graph.edges():\n",
    "        if (j, i) not in graph.edges():\n",
    "            # Edges Index\n",
    "            edgeIndex[j,i] = len(edges)\n",
    "            # Add edge\n",
    "            edges.append([j, i])\n",
    "            \n",
    "            # Data:\n",
    "            # Edge Weight\n",
    "            weights.append(inf)\n",
    "            # (not) is there an edge:\n",
    "            noWay.append(1)\n",
    "            # closed or not\n",
    "            areClosed.append(0)\n",
    "            \n",
    "            inverseSpeeds.append(1)\n",
    "            inverseMaxSpeeds.append(inf)\n",
    "            \n",
    "            lengths.append(1)\n",
    "            \n",
    "            #graph.add_edge(j, i, weight=inf, noWay=1)\n",
    "            graph.add_edge(j, i, weight=1, noWay=1, isClosed=0, lenngth=1, speed=1, maxSpeed=inf)\n",
    "        \n",
    "        \n",
    "    nodeIndex = {}\n",
    "    nodes = []\n",
    "    for n in graph.nodes:\n",
    "        # Node Index\n",
    "        nodeIndex[n] = len(nodes)\n",
    "        # Add Node\n",
    "        nodes.append(n)\n",
    "        \n",
    "        \n",
    "    # Ax = b\n",
    "    A = np.zeros([len(nodes), len(edges)])\n",
    "    b = np.zeros(len(nodes))\n",
    "\n",
    "    for i in range(len(nodes)):\n",
    "        for neighbour in graph.adj[nodes[i]]:\n",
    "            # Filling A\n",
    "            j = edgeIndex[nodes[i], neighbour]\n",
    "            A[i,j] = 1\n",
    "            j = edgeIndex[neighbour, nodes[i]]\n",
    "            A[i,j] =-1\n",
    "            \n",
    "        # Filling b\n",
    "        if nodes[i] == source:\n",
    "            b[i] = 1\n",
    "        if nodes[i] == target:\n",
    "            b[i] = -1\n",
    "            \n",
    "            \n",
    "    # optimal x\n",
    "    path = nx.shortest_path(graph, source=desiredPath[0], target=desiredPath[-1], weight=\"weight\")\n",
    "    xstar = np.zeros(len(edges))\n",
    "    for p in range(len(path)-1):\n",
    "        j = edgeIndex[path[p], path[p+1]]\n",
    "        xstar[j] = 1\n",
    "\n",
    "    # desired x\n",
    "    xzero = np.zeros(len(edges))\n",
    "    for p in range(len(desiredPath)-1):\n",
    "        j = edgeIndex[desiredPath[p], desiredPath[p+1]]\n",
    "        xzero[j] = 1\n",
    "        \n",
    "\n",
    "\n",
    "    # LP (ISP):\n",
    "    \n",
    "    w_original = np.asarray(weights)\n",
    "    noWay_original = np.asarray(noWay)\n",
    "    areClosed_original = np.asarray(areClosed)\n",
    "    inverseSpeeds_original = np.asarray(inverseSpeeds)\n",
    "    inverseMaxSpeeds_original = np.asarray(inverseMaxSpeeds)\n",
    "    \n",
    "    w_ = cp.Variable(len(w_original), integer=True)\n",
    "    pi_ = cp.Variable(len(nodes)) #(2d)\n",
    "    lambda_ = cp.Variable(len(edges)) #(2d)\n",
    "    \n",
    "    # more vars\n",
    "    noWay_ = cp.Variable(len(noWay_original), boolean=True)\n",
    "    areClosed_ = cp.Variable(len(areClosed_original), boolean=True)\n",
    "    inverseSpeeds_ = cp.Variable(len(inverseSpeeds_original))\n",
    "    inverseMaxSpeeds_ = cp.Variable(len(inverseMaxSpeeds_original))\n",
    "    \n",
    "    # weights for L1norm (not-on-path-penalty) # Why do we use this???????\n",
    "    # penalty = np.array([1]*len(w_original))\n",
    "    # for i in range(len(nodes)):\n",
    "    #     if nodes[i] not in desiredPath[1:-1]:\n",
    "    #         penalty[i] = 10\n",
    "        \n",
    "        \n",
    "        \n",
    "    constraints = []\n",
    "    \n",
    "    # (2b) & (2c) \n",
    "    for j in range(len(edges)):\n",
    "        d_j = w_[j] + inf * noWay_[j] + inf * areClosed_[j]\n",
    "        #d_j = inverseSpeeds_[j] * lengths[j]  + inf * noWay_[j] + inf * areClosed_[j]\n",
    "        \n",
    "        if xzero[j] == 1:\n",
    "        # sum_i a_ij * pi_i = d_j,              for all j in desired path (2b)\n",
    "            constraints.append( cp.sum(cp.multiply(A[:,j], pi_)) == d_j )\n",
    "        else:\n",
    "        # sum_i a_ij * pi_i + lambda_j = d_j,   for all j not in desired path (2c)\n",
    "            constraints.append( cp.sum(cp.multiply(A[:,j], pi_)) + lambda_[j] == d_j )\n",
    "        \n",
    "        \n",
    "    #(2e)\n",
    "    for j in range(len(edges)):\n",
    "        if xzero[j] == 0:\n",
    "            constraints.append( lambda_[j] >= 0 )\n",
    "            \n",
    "            \n",
    "    # sum_k l_ik = 1, for all i (5g, from NISP)\n",
    "    # for i in range(len(varnodes)):\n",
    "    #     idx = len(allowedAreaTypes) * i\n",
    "    #     constraints.append( cp.sum(l_[idx:idx+len(allowedAreaTypes)]) == 1 )\n",
    "            \n",
    "    epsilon = 0.001\n",
    "    # w>=0\n",
    "    constraints.append(w_ >= epsilon)\n",
    "    \n",
    "    for j in range(len(edges)):\n",
    "        if xzero[j] == 0:\n",
    "            #if not in desired path, do not change the data \n",
    "            constraints.append( w_[j] == w_original[j] )\n",
    "            constraints.append( noWay_[j] == noWay_original[j] )\n",
    "            constraints.append( areClosed_[j] == areClosed_original[j] )\n",
    "            constraints.append( inverseSpeeds_[j] == inverseSpeeds_original[j] )\n",
    "            constraints.append( inverseMaxSpeeds_[j] == inverseMaxSpeeds_original[j] )\n",
    "        \n",
    "        \n",
    "        # inverseSpeed is at least the max speed; ie speed is at most max speed.\n",
    "        else:\n",
    "            constraints.append(  inverseSpeeds_[j] >= inverseMaxSpeeds_original[j] )\n",
    "    \n",
    "            \n",
    "            \n",
    "    \n",
    "    # # new edges:\n",
    "    # for j in range(len(edges)):\n",
    "    #     d_j = w_[j]\n",
    "    #     if noWay_original[j] == 0:\n",
    "    #         #if not in desired path, do not change the weight \n",
    "    #         constraints.append( w_[j] == w_original[j] )\n",
    "    \n",
    "    \n",
    "    \n",
    "    \n",
    "    \n",
    "    \n",
    "    cost1 = cp.norm1(w_ - w_original)\n",
    "    cost2 = cp.norm1(noWay_ - noWay_original)\n",
    "    cost3 = cp.norm1(areClosed_ - areClosed_original)\n",
    "            \n",
    "            \n",
    "    # Cost funnction\n",
    "    cost = cost1 + cost2 + cost3 # ||w' - w||1 (2a)\n",
    "    \n",
    "    #Check why the penalty??\n",
    "    #cost = cp.norm1(cp.multiply(w_ - w_original, penalty))\n",
    "        \n",
    "    # Forming the problem\n",
    "    prob = cp.Problem(cp.Minimize(cost), constraints)\n",
    "    \n",
    "    # Solve the problem\n",
    "    #prob.solve(verbose=True)#Detailed\n",
    "    prob.solve()  # Returns the optimal value.\n",
    "    print(\"\\nThe optimal value is\", prob.value)\n",
    "    print(\"A solution w' is\")\n",
    "    print(w_.value)\n",
    "    print('original isClosed: ', areClosed_original)\n",
    "    print('new isClosed: ', areClosed_.value)\n",
    "    \n",
    "    \n",
    "    newGraph = nx.MultiDiGraph()\n",
    "    \n",
    "    for (i, j), index in edgeIndex.items():\n",
    "        newGraph.add_edge(i, j, weight = w_.value[index], noWay = noWay_.value[index], isClosed = areClosed_.value[index])\n",
    "        \n",
    "    return newGraph\n"
   ]
  },
  {
   "cell_type": "code",
   "execution_count": 259,
   "metadata": {},
   "outputs": [
    {
     "name": "stdout",
     "output_type": "stream",
     "text": [
      "\n",
      "The optimal value is 6.0\n",
      "A solution w' is\n",
      "[3.e+00 3.e+00 1.e+00 1.e+00 5.e+00 1.e+06 1.e+06 1.e+06 1.e+06 1.e+06]\n",
      "original isClosed:  [0 0 0 0 1 0 0 0 0 0]\n",
      "new isClosed:  [0. 0. 0. 0. 1. 0. 0. 0. 0. 0.]\n"
     ]
    }
   ],
   "source": [
    "# Solving using the function\n",
    "\n",
    "new_graph = inverseShortestPath(G, desiredPath)"
   ]
  },
  {
   "cell_type": "code",
   "execution_count": 260,
   "metadata": {},
   "outputs": [
    {
     "data": {
      "text/plain": [
       "[1, 2, 4]"
      ]
     },
     "execution_count": 260,
     "metadata": {},
     "output_type": "execute_result"
    }
   ],
   "source": [
    "nx.shortest_path(new_graph, source=desiredPath[0], target=desiredPath[-1], weight=\"weight\")\n",
    "    "
   ]
  },
  {
   "cell_type": "code",
   "execution_count": 261,
   "metadata": {},
   "outputs": [
    {
     "data": {
      "text/plain": [
       "[1, 3, 4]"
      ]
     },
     "execution_count": 261,
     "metadata": {},
     "output_type": "execute_result"
    }
   ],
   "source": [
    "desiredPath"
   ]
  },
  {
   "cell_type": "code",
   "execution_count": 262,
   "metadata": {},
   "outputs": [
    {
     "data": {
      "text/plain": [
       "OutMultiEdgeDataView([(1, 2, {'weight': 3, 'noWay': 0, 'isClosed': 0, 'length': 20, 'speed': 18, 'maxSpeed': 20}), (1, 3, {'weight': 5, 'noWay': 0, 'isClosed': 0, 'length': 20, 'speed': 15, 'maxSpeed': 20}), (2, 4, {'weight': 1, 'noWay': 0, 'isClosed': 0, 'length': 20, 'speed': 10, 'maxSpeed': 20}), (3, 4, {'weight': 5, 'noWay': 0, 'isClosed': 0, 'length': 20, 'speed': 7, 'maxSpeed': 20}), (4, 5, {'weight': 5, 'noWay': 0, 'isClosed': 1, 'length': 20, 'speed': 5, 'maxSpeed': 20})])"
      ]
     },
     "execution_count": 262,
     "metadata": {},
     "output_type": "execute_result"
    }
   ],
   "source": [
    "G.edges(data=True)"
   ]
  },
  {
   "cell_type": "code",
   "execution_count": 263,
   "metadata": {},
   "outputs": [
    {
     "data": {
      "text/plain": [
       "OutMultiEdgeDataView([(1, 2, {'weight': 3.0, 'noWay': 0.0, 'isClosed': 0.0}), (1, 3, {'weight': 3.0, 'noWay': 0.0, 'isClosed': 0.0}), (2, 4, {'weight': 1.0, 'noWay': 0.0, 'isClosed': 0.0}), (2, 1, {'weight': 1000000.0, 'noWay': 1.0, 'isClosed': 0.0}), (3, 4, {'weight': 1.0, 'noWay': 0.0, 'isClosed': 0.0}), (3, 1, {'weight': 1000000.0, 'noWay': 1.0, 'isClosed': 0.0}), (4, 5, {'weight': 5.0, 'noWay': 0.0, 'isClosed': 1.0}), (4, 2, {'weight': 1000000.0, 'noWay': 1.0, 'isClosed': 0.0}), (4, 3, {'weight': 1000000.0, 'noWay': 1.0, 'isClosed': 0.0}), (5, 4, {'weight': 1000000.0, 'noWay': 1.0, 'isClosed': 0.0})])"
      ]
     },
     "execution_count": 263,
     "metadata": {},
     "output_type": "execute_result"
    }
   ],
   "source": [
    "new_graph.edges(data=True)"
   ]
  },
  {
   "cell_type": "code",
   "execution_count": null,
   "metadata": {},
   "outputs": [],
   "source": []
  },
  {
   "cell_type": "code",
   "execution_count": null,
   "metadata": {},
   "outputs": [],
   "source": []
  }
 ],
 "metadata": {
  "kernelspec": {
   "display_name": "Python 3.10.4 ('kurf')",
   "language": "python",
   "name": "python3"
  },
  "language_info": {
   "codemirror_mode": {
    "name": "ipython",
    "version": 3
   },
   "file_extension": ".py",
   "mimetype": "text/x-python",
   "name": "python",
   "nbconvert_exporter": "python",
   "pygments_lexer": "ipython3",
   "version": "3.10.5"
  },
  "orig_nbformat": 4,
  "vscode": {
   "interpreter": {
    "hash": "438d01e1222d38501203db3b1bf9b8ba9ce39f84db909b5f12abc0f9b39e6075"
   }
  }
 },
 "nbformat": 4,
 "nbformat_minor": 2
}
