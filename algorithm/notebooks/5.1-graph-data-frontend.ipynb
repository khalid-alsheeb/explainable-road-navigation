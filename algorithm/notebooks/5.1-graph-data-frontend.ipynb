{
 "cells": [
  {
   "cell_type": "code",
   "execution_count": 1,
   "metadata": {},
   "outputs": [],
   "source": [
    "import networkx as nx\n",
    "import osmnx as ox\n",
    "import pandas as pd\n",
    "import geopandas as gpd\n",
    "import folium\n",
    "import numpy as np\n",
    "import matplotlib as plt\n",
    "from shapely import geometry\n",
    "from scipy.spatial import ConvexHull, convex_hull_plot_2d\n",
    "import json\n",
    "\n",
    "import matplotlib.pyplot as plt\n",
    "\n",
    "address = '30 Aldwych, London WC2B 4BG'\n"
   ]
  },
  {
   "cell_type": "code",
   "execution_count": 43,
   "metadata": {},
   "outputs": [],
   "source": [
    "G = ox.graph_from_address(address, network_type=\"drive\")"
   ]
  },
  {
   "cell_type": "code",
   "execution_count": 44,
   "metadata": {},
   "outputs": [],
   "source": [
    "nodes, edges = ox.graph_to_gdfs(G)"
   ]
  },
  {
   "cell_type": "code",
   "execution_count": 58,
   "metadata": {},
   "outputs": [
    {
     "data": {
      "text/html": [
       "<div>\n",
       "<style scoped>\n",
       "    .dataframe tbody tr th:only-of-type {\n",
       "        vertical-align: middle;\n",
       "    }\n",
       "\n",
       "    .dataframe tbody tr th {\n",
       "        vertical-align: top;\n",
       "    }\n",
       "\n",
       "    .dataframe thead th {\n",
       "        text-align: right;\n",
       "    }\n",
       "</style>\n",
       "<table border=\"1\" class=\"dataframe\">\n",
       "  <thead>\n",
       "    <tr style=\"text-align: right;\">\n",
       "      <th></th>\n",
       "      <th></th>\n",
       "      <th></th>\n",
       "      <th>osmid</th>\n",
       "      <th>oneway</th>\n",
       "      <th>name</th>\n",
       "      <th>highway</th>\n",
       "      <th>maxspeed</th>\n",
       "      <th>reversed</th>\n",
       "      <th>length</th>\n",
       "      <th>geometry</th>\n",
       "      <th>lanes</th>\n",
       "      <th>ref</th>\n",
       "      <th>tunnel</th>\n",
       "      <th>access</th>\n",
       "      <th>junction</th>\n",
       "      <th>bridge</th>\n",
       "    </tr>\n",
       "    <tr>\n",
       "      <th>u</th>\n",
       "      <th>v</th>\n",
       "      <th>key</th>\n",
       "      <th></th>\n",
       "      <th></th>\n",
       "      <th></th>\n",
       "      <th></th>\n",
       "      <th></th>\n",
       "      <th></th>\n",
       "      <th></th>\n",
       "      <th></th>\n",
       "      <th></th>\n",
       "      <th></th>\n",
       "      <th></th>\n",
       "      <th></th>\n",
       "      <th></th>\n",
       "      <th></th>\n",
       "    </tr>\n",
       "  </thead>\n",
       "  <tbody>\n",
       "    <tr>\n",
       "      <th>9515377</th>\n",
       "      <th>2975783588</th>\n",
       "      <th>1</th>\n",
       "      <td>[68883404, 68883406, 68883407, 68883408, 42541...</td>\n",
       "      <td>True</td>\n",
       "      <td>[Adelphi Terrace, Adam Street, Robert Street]</td>\n",
       "      <td>residential</td>\n",
       "      <td>20 mph</td>\n",
       "      <td>False</td>\n",
       "      <td>201.298</td>\n",
       "      <td>LINESTRING (-0.12211 51.50955, -0.12158 51.509...</td>\n",
       "      <td>NaN</td>\n",
       "      <td>NaN</td>\n",
       "      <td>NaN</td>\n",
       "      <td>NaN</td>\n",
       "      <td>NaN</td>\n",
       "      <td>NaN</td>\n",
       "    </tr>\n",
       "    <tr>\n",
       "      <th>25472654</th>\n",
       "      <th>25472672</th>\n",
       "      <th>1</th>\n",
       "      <td>319017443</td>\n",
       "      <td>False</td>\n",
       "      <td>Great Russell Street</td>\n",
       "      <td>tertiary</td>\n",
       "      <td>20 mph</td>\n",
       "      <td>False</td>\n",
       "      <td>27.762</td>\n",
       "      <td>LINESTRING (-0.12673 51.51801, -0.12698 51.517...</td>\n",
       "      <td>2</td>\n",
       "      <td>NaN</td>\n",
       "      <td>NaN</td>\n",
       "      <td>NaN</td>\n",
       "      <td>NaN</td>\n",
       "      <td>NaN</td>\n",
       "    </tr>\n",
       "    <tr>\n",
       "      <th>25475824</th>\n",
       "      <th>25475848</th>\n",
       "      <th>1</th>\n",
       "      <td>[4254088, 308117627, 4254078]</td>\n",
       "      <td>False</td>\n",
       "      <td>[Greet Street, Windmill Walk, Cons Street]</td>\n",
       "      <td>residential</td>\n",
       "      <td>20 mph</td>\n",
       "      <td>[False, True]</td>\n",
       "      <td>248.461</td>\n",
       "      <td>LINESTRING (-0.10872 51.50389, -0.10860 51.503...</td>\n",
       "      <td>NaN</td>\n",
       "      <td>NaN</td>\n",
       "      <td>NaN</td>\n",
       "      <td>NaN</td>\n",
       "      <td>NaN</td>\n",
       "      <td>NaN</td>\n",
       "    </tr>\n",
       "    <tr>\n",
       "      <th>25475848</th>\n",
       "      <th>25475824</th>\n",
       "      <th>1</th>\n",
       "      <td>[4254088, 308117627, 4254078]</td>\n",
       "      <td>False</td>\n",
       "      <td>[Greet Street, Windmill Walk, Cons Street]</td>\n",
       "      <td>residential</td>\n",
       "      <td>20 mph</td>\n",
       "      <td>[False, True]</td>\n",
       "      <td>248.461</td>\n",
       "      <td>LINESTRING (-0.10756 51.50409, -0.10748 51.503...</td>\n",
       "      <td>NaN</td>\n",
       "      <td>NaN</td>\n",
       "      <td>NaN</td>\n",
       "      <td>NaN</td>\n",
       "      <td>NaN</td>\n",
       "      <td>NaN</td>\n",
       "    </tr>\n",
       "    <tr>\n",
       "      <th>26630792</th>\n",
       "      <th>5521427550</th>\n",
       "      <th>1</th>\n",
       "      <td>[817967120, 817967121, 817967122, 817967123]</td>\n",
       "      <td>True</td>\n",
       "      <td>NaN</td>\n",
       "      <td>tertiary</td>\n",
       "      <td>20 mph</td>\n",
       "      <td>False</td>\n",
       "      <td>86.543</td>\n",
       "      <td>LINESTRING (-0.12939 51.50643, -0.12940 51.506...</td>\n",
       "      <td>NaN</td>\n",
       "      <td>NaN</td>\n",
       "      <td>building_passage</td>\n",
       "      <td>no</td>\n",
       "      <td>NaN</td>\n",
       "      <td>NaN</td>\n",
       "    </tr>\n",
       "    <tr>\n",
       "      <th>338575323</th>\n",
       "      <th>1166559044</th>\n",
       "      <th>1</th>\n",
       "      <td>100995255</td>\n",
       "      <td>False</td>\n",
       "      <td>Old Square</td>\n",
       "      <td>unclassified</td>\n",
       "      <td>NaN</td>\n",
       "      <td>True</td>\n",
       "      <td>63.608</td>\n",
       "      <td>LINESTRING (-0.11323 51.51661, -0.11296 51.516...</td>\n",
       "      <td>NaN</td>\n",
       "      <td>NaN</td>\n",
       "      <td>NaN</td>\n",
       "      <td>NaN</td>\n",
       "      <td>NaN</td>\n",
       "      <td>NaN</td>\n",
       "    </tr>\n",
       "    <tr>\n",
       "      <th>1166559044</th>\n",
       "      <th>338575323</th>\n",
       "      <th>1</th>\n",
       "      <td>100995255</td>\n",
       "      <td>False</td>\n",
       "      <td>Old Square</td>\n",
       "      <td>unclassified</td>\n",
       "      <td>NaN</td>\n",
       "      <td>False</td>\n",
       "      <td>63.608</td>\n",
       "      <td>LINESTRING (-0.11335 51.51678, -0.11319 51.516...</td>\n",
       "      <td>NaN</td>\n",
       "      <td>NaN</td>\n",
       "      <td>NaN</td>\n",
       "      <td>NaN</td>\n",
       "      <td>NaN</td>\n",
       "      <td>NaN</td>\n",
       "    </tr>\n",
       "    <tr>\n",
       "      <th>1611771529</th>\n",
       "      <th>1611771530</th>\n",
       "      <th>1</th>\n",
       "      <td>675567631</td>\n",
       "      <td>False</td>\n",
       "      <td>New Square</td>\n",
       "      <td>residential</td>\n",
       "      <td>20 mph</td>\n",
       "      <td>False</td>\n",
       "      <td>48.381</td>\n",
       "      <td>LINESTRING (-0.11354 51.51622, -0.11365 51.516...</td>\n",
       "      <td>NaN</td>\n",
       "      <td>NaN</td>\n",
       "      <td>NaN</td>\n",
       "      <td>NaN</td>\n",
       "      <td>NaN</td>\n",
       "      <td>NaN</td>\n",
       "    </tr>\n",
       "    <tr>\n",
       "      <th>1611771530</th>\n",
       "      <th>1611771529</th>\n",
       "      <th>1</th>\n",
       "      <td>675567631</td>\n",
       "      <td>False</td>\n",
       "      <td>New Square</td>\n",
       "      <td>residential</td>\n",
       "      <td>20 mph</td>\n",
       "      <td>True</td>\n",
       "      <td>48.381</td>\n",
       "      <td>LINESTRING (-0.11419 51.51605, -0.11365 51.516...</td>\n",
       "      <td>NaN</td>\n",
       "      <td>NaN</td>\n",
       "      <td>NaN</td>\n",
       "      <td>NaN</td>\n",
       "      <td>NaN</td>\n",
       "      <td>NaN</td>\n",
       "    </tr>\n",
       "  </tbody>\n",
       "</table>\n",
       "</div>"
      ],
      "text/plain": [
       "                                                                       osmid  \\\n",
       "u          v          key                                                      \n",
       "9515377    2975783588 1    [68883404, 68883406, 68883407, 68883408, 42541...   \n",
       "25472654   25472672   1                                            319017443   \n",
       "25475824   25475848   1                        [4254088, 308117627, 4254078]   \n",
       "25475848   25475824   1                        [4254088, 308117627, 4254078]   \n",
       "26630792   5521427550 1         [817967120, 817967121, 817967122, 817967123]   \n",
       "338575323  1166559044 1                                            100995255   \n",
       "1166559044 338575323  1                                            100995255   \n",
       "1611771529 1611771530 1                                            675567631   \n",
       "1611771530 1611771529 1                                            675567631   \n",
       "\n",
       "                           oneway  \\\n",
       "u          v          key           \n",
       "9515377    2975783588 1      True   \n",
       "25472654   25472672   1     False   \n",
       "25475824   25475848   1     False   \n",
       "25475848   25475824   1     False   \n",
       "26630792   5521427550 1      True   \n",
       "338575323  1166559044 1     False   \n",
       "1166559044 338575323  1     False   \n",
       "1611771529 1611771530 1     False   \n",
       "1611771530 1611771529 1     False   \n",
       "\n",
       "                                                                    name  \\\n",
       "u          v          key                                                  \n",
       "9515377    2975783588 1    [Adelphi Terrace, Adam Street, Robert Street]   \n",
       "25472654   25472672   1                             Great Russell Street   \n",
       "25475824   25475848   1       [Greet Street, Windmill Walk, Cons Street]   \n",
       "25475848   25475824   1       [Greet Street, Windmill Walk, Cons Street]   \n",
       "26630792   5521427550 1                                              NaN   \n",
       "338575323  1166559044 1                                       Old Square   \n",
       "1166559044 338575323  1                                       Old Square   \n",
       "1611771529 1611771530 1                                       New Square   \n",
       "1611771530 1611771529 1                                       New Square   \n",
       "\n",
       "                                highway maxspeed       reversed   length  \\\n",
       "u          v          key                                                  \n",
       "9515377    2975783588 1     residential   20 mph          False  201.298   \n",
       "25472654   25472672   1        tertiary   20 mph          False   27.762   \n",
       "25475824   25475848   1     residential   20 mph  [False, True]  248.461   \n",
       "25475848   25475824   1     residential   20 mph  [False, True]  248.461   \n",
       "26630792   5521427550 1        tertiary   20 mph          False   86.543   \n",
       "338575323  1166559044 1    unclassified      NaN           True   63.608   \n",
       "1166559044 338575323  1    unclassified      NaN          False   63.608   \n",
       "1611771529 1611771530 1     residential   20 mph          False   48.381   \n",
       "1611771530 1611771529 1     residential   20 mph           True   48.381   \n",
       "\n",
       "                                                                    geometry  \\\n",
       "u          v          key                                                      \n",
       "9515377    2975783588 1    LINESTRING (-0.12211 51.50955, -0.12158 51.509...   \n",
       "25472654   25472672   1    LINESTRING (-0.12673 51.51801, -0.12698 51.517...   \n",
       "25475824   25475848   1    LINESTRING (-0.10872 51.50389, -0.10860 51.503...   \n",
       "25475848   25475824   1    LINESTRING (-0.10756 51.50409, -0.10748 51.503...   \n",
       "26630792   5521427550 1    LINESTRING (-0.12939 51.50643, -0.12940 51.506...   \n",
       "338575323  1166559044 1    LINESTRING (-0.11323 51.51661, -0.11296 51.516...   \n",
       "1166559044 338575323  1    LINESTRING (-0.11335 51.51678, -0.11319 51.516...   \n",
       "1611771529 1611771530 1    LINESTRING (-0.11354 51.51622, -0.11365 51.516...   \n",
       "1611771530 1611771529 1    LINESTRING (-0.11419 51.51605, -0.11365 51.516...   \n",
       "\n",
       "                          lanes  ref            tunnel access junction bridge  \n",
       "u          v          key                                                      \n",
       "9515377    2975783588 1     NaN  NaN               NaN    NaN      NaN    NaN  \n",
       "25472654   25472672   1       2  NaN               NaN    NaN      NaN    NaN  \n",
       "25475824   25475848   1     NaN  NaN               NaN    NaN      NaN    NaN  \n",
       "25475848   25475824   1     NaN  NaN               NaN    NaN      NaN    NaN  \n",
       "26630792   5521427550 1     NaN  NaN  building_passage     no      NaN    NaN  \n",
       "338575323  1166559044 1     NaN  NaN               NaN    NaN      NaN    NaN  \n",
       "1166559044 338575323  1     NaN  NaN               NaN    NaN      NaN    NaN  \n",
       "1611771529 1611771530 1     NaN  NaN               NaN    NaN      NaN    NaN  \n",
       "1611771530 1611771529 1     NaN  NaN               NaN    NaN      NaN    NaN  "
      ]
     },
     "execution_count": 58,
     "metadata": {},
     "output_type": "execute_result"
    }
   ],
   "source": [
    "# Duplicated edges\n",
    "edges[edges.index.get_level_values('key') > 0]"
   ]
  },
  {
   "cell_type": "code",
   "execution_count": 48,
   "metadata": {},
   "outputs": [
    {
     "name": "stdout",
     "output_type": "stream",
     "text": [
      "193\n",
      "483\n",
      "554\n",
      "557\n",
      "734\n",
      "818\n",
      "909\n",
      "927\n",
      "929\n"
     ]
    }
   ],
   "source": [
    "for i in range(len(edges.index)):\n",
    "    z = edges.index[i][2]\n",
    "    if z != 0:\n",
    "        print(i)"
   ]
  },
  {
   "cell_type": "code",
   "execution_count": null,
   "metadata": {},
   "outputs": [],
   "source": []
  },
  {
   "cell_type": "code",
   "execution_count": null,
   "metadata": {},
   "outputs": [],
   "source": [
    "type(nodes.iloc[0]['y'])"
   ]
  },
  {
   "cell_type": "code",
   "execution_count": null,
   "metadata": {},
   "outputs": [],
   "source": [
    "nodeCoordinates = []\n",
    "for i in range(len(nodes)):\n",
    "    coordinates = [float(nodes.iloc[i]['y']), float(nodes.iloc[i]['x'])]\n",
    "    id = int(nodes.index[i])\n",
    "        \n",
    "    nodeCoordinates.append({\"id\": id, \"coordinates\": coordinates})"
   ]
  },
  {
   "cell_type": "code",
   "execution_count": null,
   "metadata": {},
   "outputs": [],
   "source": [
    "nodeCoordinates"
   ]
  },
  {
   "cell_type": "code",
   "execution_count": null,
   "metadata": {},
   "outputs": [],
   "source": [
    "jsonStr = json.dumps(nodeCoordinates)\n"
   ]
  },
  {
   "cell_type": "code",
   "execution_count": null,
   "metadata": {},
   "outputs": [],
   "source": [
    "with open('Nodes.json', 'w') as outfile:\n",
    "    outfile.write(jsonStr)"
   ]
  },
  {
   "cell_type": "code",
   "execution_count": null,
   "metadata": {},
   "outputs": [],
   "source": [
    "points = list(nodes.geometry)"
   ]
  },
  {
   "cell_type": "code",
   "execution_count": null,
   "metadata": {},
   "outputs": [],
   "source": [
    "pointList = np.asarray(list([(p.x, p.y) for p in points]))"
   ]
  },
  {
   "cell_type": "code",
   "execution_count": null,
   "metadata": {},
   "outputs": [],
   "source": [
    "pointList"
   ]
  },
  {
   "cell_type": "code",
   "execution_count": null,
   "metadata": {},
   "outputs": [],
   "source": [
    "hull = ConvexHull(pointList)\n"
   ]
  },
  {
   "cell_type": "code",
   "execution_count": null,
   "metadata": {},
   "outputs": [],
   "source": [
    "hull.vertices"
   ]
  },
  {
   "cell_type": "code",
   "execution_count": null,
   "metadata": {},
   "outputs": [],
   "source": [
    "hull_points = pointList[hull.vertices, :]"
   ]
  },
  {
   "cell_type": "code",
   "execution_count": null,
   "metadata": {},
   "outputs": [],
   "source": [
    "correct_hull_poinnts = []\n",
    "\n",
    "for p in hull_points:\n",
    "    correct_hull_poinnts.append([p[1], p[0]])"
   ]
  },
  {
   "cell_type": "code",
   "execution_count": null,
   "metadata": {},
   "outputs": [],
   "source": [
    "correct_hull_poinnts"
   ]
  },
  {
   "cell_type": "code",
   "execution_count": null,
   "metadata": {},
   "outputs": [],
   "source": [
    "len(edges)"
   ]
  },
  {
   "cell_type": "code",
   "execution_count": null,
   "metadata": {},
   "outputs": [],
   "source": [
    "type((edges.index[0][0], edges.index[0][1])[0])"
   ]
  },
  {
   "cell_type": "code",
   "execution_count": 40,
   "metadata": {},
   "outputs": [],
   "source": [
    "G = ox.graph_from_address(address, network_type=\"drive\")\n",
    "\n",
    "G = nx.DiGraph(G)\n",
    "G = G.to_undirected()\n",
    "#nodes, edges = ox.graph_to_gdfs(G)\n"
   ]
  },
  {
   "cell_type": "code",
   "execution_count": 41,
   "metadata": {},
   "outputs": [
    {
     "data": {
      "text/plain": [
       "927"
      ]
     },
     "execution_count": 41,
     "metadata": {},
     "output_type": "execute_result"
    }
   ],
   "source": [
    "len(G.edges())"
   ]
  },
  {
   "cell_type": "code",
   "execution_count": 42,
   "metadata": {},
   "outputs": [
    {
     "data": {
      "text/plain": [
       "NodeView((104302, 104312, 104315, 107668, 107686, 107693, 107697, 107698, 107708, 107715, 107716, 107733, 107734, 107735, 107736, 107737, 107738, 107763, 107769, 107774, 107777, 107786, 107790, 107791, 107792, 107801, 107805, 107806, 107807, 107828, 107829, 107830, 107831, 107835, 107836, 107837, 107838, 107839, 107843, 107844, 107848, 107851, 107852, 107853, 107855, 107856, 107860, 107863, 107864, 108014, 108017, 108028, 108033, 108065, 108398, 108400, 108404, 108895, 108896, 108899, 108901, 108902, 108903, 108905, 109625, 109633, 109634, 109753, 109757, 109806, 109836, 109838, 237908, 8916255, 9475518, 9475519, 9475520, 9475528, 9476442, 9512915, 9512917, 9512922, 9512937, 9512939, 9515368, 9515377, 9515387, 9791482, 10534456, 10534459, 10572785, 10572786, 10574746, 10574748, 10574749, 10574891, 10607626, 10616173, 11510323, 11544695, 11544696, 11544697, 11767207, 12237913, 12354836, 12446952, 13250138, 13355224, 13491058, 13799038, 13799039, 13799043, 14672924, 14727254, 14791174, 14791182, 14791186, 14791190, 14791193, 14804196, 14866466, 18495598, 21392086, 21392089, 21392100, 21392267, 21392273, 21392276, 21392279, 21392286, 21554363, 21554364, 21554368, 21563009, 21563015, 21563479, 21564825, 21565332, 21565338, 21578461, 21583341, 21583361, 21583363, 21590614, 21590630, 21645238, 21665006, 21665008, 21665009, 21665026, 21665031, 21665081, 21665132, 21665135, 21665140, 21665247, 21665248, 21665361, 21665367, 21665578, 21665581, 21665585, 21665588, 21665589, 21665590, 21665713, 21665714, 21665716, 21665719, 21686572, 21686573, 21686574, 21686575, 21686578, 21704017, 21704021, 21990641, 25151180, 25151183, 25375812, 25375955, 25375957, 25375958, 25375960, 25375976, 25376002, 25377946, 25378117, 25378119, 25378121, 25378124, 25468756, 25468764, 25468768, 25468769, 25468770, 25468771, 25470678, 25470679, 25470680, 25470681, 25470694, 25470697, 25470835, 25470853, 25471086, 25471098, 25471100, 25471371, 25471736, 25472026, 25472027, 25472326, 25472327, 25472328, 25472330, 25472347, 25472348, 25472468, 25472469, 25472654, 25472672, 25472757, 25472758, 25472759, 25472762, 25472764, 25472766, 25472769, 25472854, 25472873, 25472874, 25472888, 25472893, 25472904, 25472906, 25472992, 25472993, 25473004, 25473048, 25473290, 25474658, 25474661, 25474662, 25474664, 25474666, 25474676, 25474750, 25474751, 25475612, 25475824, 25475848, 25475924, 25476014, 25476020, 25476022, 25476026, 25476036, 25476040, 25476041, 25495542, 25495545, 25495617, 25495640, 25495697, 25495769, 25495822, 25496750, 25496762, 25496780, 25496783, 25496787, 25496788, 25496800, 25496814, 25496850, 25496851, 25496854, 25496857, 25496892, 25496899, 25497392, 25497910, 25497912, 25503513, 25503571, 25503579, 25503580, 25503582, 25503651, 25503652, 25503654, 25503657, 25503700, 25503701, 25503703, 25503707, 25503716, 25503725, 25503860, 25504189, 25504190, 25504191, 25504193, 25504199, 25504200, 25504262, 25504263, 25504421, 25507047, 25509525, 25510321, 25522907, 25524297, 25529877, 25529933, 25529938, 25530033, 25530034, 25530236, 25530312, 25533129, 25533132, 25533180, 25533203, 25533217, 25533321, 25533437, 25533438, 25544115, 25544119, 25544120, 25544138, 25620550, 26374229, 26374236, 26559582, 26559655, 26573667, 26573670, 26573672, 26573673, 26630792, 26630839, 26671718, 26671719, 26671724, 26671730, 26671734, 26699561, 26699565, 26846357, 26848675, 26848680, 27345499, 32921720, 32925453, 33141178, 60728181, 60728182, 60728185, 60728186, 255747713, 255747714, 255747733, 256794570, 256794571, 256794572, 256794589, 256794593, 256794594, 264515752, 266325462, 266325841, 266325842, 266325843, 269589467, 281454959, 281454961, 281455009, 282569739, 287438189, 293864446, 338463529, 338463530, 338501923, 338569568, 338575323, 345863907, 351771449, 351788581, 353282071, 366518767, 367102039, 368279307, 438170606, 438170616, 452486132, 452486137, 452514269, 455705618, 455705622, 455705625, 456363900, 456363903, 473685478, 500486430, 501766800, 534993850, 534993866, 534993869, 538075245, 595709975, 622003574, 761831000, 761831060, 770549936, 914264960, 914264963, 919682930, 968291529, 973525136, 973525143, 973525755, 1103212861, 1104386162, 1104473061, 1104473062, 1104496316, 1104496326, 1104496344, 1106056846, 1106056850, 1106056856, 1106056861, 1106056863, 1106056866, 1139318692, 1139318714, 1139318724, 1166559044, 1188939772, 1239525705, 1274040745, 1360122841, 1360122937, 1364168178, 1413151217, 1587616047, 1611771529, 1611771530, 1614846616, 1614846675, 1614846683, 1614846692, 1614846702, 1614846711, 1614926285, 1614926320, 1614926340, 1614926341, 1614949580, 1614949585, 1614949613, 1614978560, 1614978621, 1616122145, 1616122178, 1616122237, 1617512815, 1617512819, 1617512823, 1617512826, 1617512828, 1617512849, 1617532089, 1617532091, 1617532092, 1617596591, 1617596593, 1617596606, 1617596669, 1617596711, 1617596714, 1617647896, 1617647900, 1617647901, 1617647931, 1617647934, 1617647944, 1617647945, 1637789608, 1637831175, 1645813888, 1664288171, 1678452727, 1678452728, 1678452742, 1678452745, 1678452778, 1678452807, 1678452811, 1678452813, 1678452814, 1678452820, 1678452821, 1678452823, 1684437690, 1694551549, 1694551553, 1694551556, 1696030874, 1697772135, 1697813647, 1697813659, 1697813677, 1697813678, 1697813681, 1697813684, 1697813697, 1697813698, 1707216608, 1707216616, 1707216624, 1707216628, 1707216637, 1707216642, 1707216646, 1707216789, 1707216902, 1707790023, 1707790024, 1707790067, 1707790074, 1707790076, 1707790077, 1707790096, 1707790105, 1707790106, 1707790107, 1810130458, 1816038211, 1816038214, 1816038224, 1816038226, 1816038230, 1832129873, 1843345666, 1881001588, 1936084669, 1938580050, 1953202903, 1955520879, 1955520890, 2058516819, 2094955592, 2117475741, 2140823631, 2389983771, 2389991902, 2389991907, 2390005223, 2390008569, 2390036493, 2453947049, 2476787985, 2493654751, 2586635284, 2623975694, 2725915874, 2725915891, 2726834609, 2726836322, 2975783588, 3062596144, 3085005064, 3140855372, 3140855378, 3140855379, 3140855387, 3142630784, 3267461729, 3328228993, 3328228994, 3439409148, 3729004662, 3807436630, 3810553686, 3895422567, 3933712866, 4034060017, 4034060018, 4115887296, 4166662878, 4174200021, 4174200022, 4174200034, 4174200035, 4208239642, 4211515634, 4213129862, 4356572311, 4356572322, 4367041962, 4421008555, 4421008566, 4462680068, 4474765621, 4530270906, 4530339698, 4530339699, 4650375309, 4658088777, 4689775124, 4689775126, 4697525032, 4879371166, 4927544939, 5006063176, 5006063180, 5034506700, 5177352923, 5177397822, 5177397823, 5177397824, 5177397825, 5177397828, 5207477021, 5265953453, 5265953455, 5265953457, 5265953459, 5336220111, 5339077112, 5374174120, 5426506500, 5454295758, 5501130885, 5517569293, 5521427550, 5532720349, 5630569824, 5630841552, 5907366887, 5932883504, 5932959891, 5986562231, 5986763688, 6060084833, 6139961783, 6173783033, 6173783039, 6214704100, 6214704108, 6277683849, 6279388821, 6279388822, 6279388824, 6287158541, 6293128709, 6586653170, 6606148798, 6724775012, 6724775018, 6806740816, 6828921211, 6863503678, 6863550501, 6940326497, 6940326498, 7039932114, 7050696569, 7162259986, 7203717550, 7256356296, 7256401861, 7261577394, 7639001106, 7684023351, 7684041426, 7684041427, 7725745987, 7840712839, 8481466953, 8481522617, 8752950708, 8783938010, 8784071419, 8908572781, 8972536362, 8975593990, 9020945997, 9054849009, 9168249242, 9287396538, 9306709751, 9398094483, 9522438146, 9522532106, 9522806805, 9523033019, 9526047354, 9576767098, 9620045688, 9846850974))"
      ]
     },
     "execution_count": 42,
     "metadata": {},
     "output_type": "execute_result"
    }
   ],
   "source": [
    "G.nodes()"
   ]
  },
  {
   "cell_type": "code",
   "execution_count": 22,
   "metadata": {},
   "outputs": [],
   "source": [
    "edgesCoordinates = []\n",
    "for i in range(len(edges)):\n",
    "    coordinates = list(edges.iloc[i].geometry.coords)\n",
    "    nodes = (int(edges.index[i][0]), int(edges.index[i][1]))\n",
    "    correct_coordinates = []\n",
    "    for p in coordinates:\n",
    "        correct_coordinates.append([p[1], p[0]])\n",
    "        \n",
    "    edgesCoordinates.append({\"nodes\": nodes, \"coordinates\": correct_coordinates})"
   ]
  },
  {
   "cell_type": "code",
   "execution_count": 23,
   "metadata": {},
   "outputs": [
    {
     "data": {
      "text/plain": [
       "933"
      ]
     },
     "execution_count": 23,
     "metadata": {},
     "output_type": "execute_result"
    }
   ],
   "source": [
    "# 1440\n",
    "# 1431\n",
    "# 933\n",
    "len(edgesCoordinates)"
   ]
  },
  {
   "cell_type": "code",
   "execution_count": 24,
   "metadata": {},
   "outputs": [],
   "source": [
    "jsonStr = json.dumps(edgesCoordinates)"
   ]
  },
  {
   "cell_type": "code",
   "execution_count": null,
   "metadata": {},
   "outputs": [],
   "source": [
    "jsonStr"
   ]
  },
  {
   "cell_type": "code",
   "execution_count": 25,
   "metadata": {},
   "outputs": [],
   "source": [
    "with open('Edges.json', 'w') as outfile:\n",
    "    outfile.write(jsonStr)"
   ]
  },
  {
   "cell_type": "code",
   "execution_count": null,
   "metadata": {},
   "outputs": [],
   "source": []
  }
 ],
 "metadata": {
  "kernelspec": {
   "display_name": "Python 3.10.5 ('kurf')",
   "language": "python",
   "name": "python3"
  },
  "language_info": {
   "codemirror_mode": {
    "name": "ipython",
    "version": 3
   },
   "file_extension": ".py",
   "mimetype": "text/x-python",
   "name": "python",
   "nbconvert_exporter": "python",
   "pygments_lexer": "ipython3",
   "version": "3.10.5"
  },
  "orig_nbformat": 4,
  "vscode": {
   "interpreter": {
    "hash": "438d01e1222d38501203db3b1bf9b8ba9ce39f84db909b5f12abc0f9b39e6075"
   }
  }
 },
 "nbformat": 4,
 "nbformat_minor": 2
}
