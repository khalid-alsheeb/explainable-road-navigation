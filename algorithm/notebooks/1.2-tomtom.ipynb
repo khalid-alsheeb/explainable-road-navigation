{
 "cells": [
  {
   "cell_type": "code",
   "execution_count": 1,
   "metadata": {},
   "outputs": [],
   "source": [
    "import requests\n",
    "from shapely.geometry import LineString\n",
    "import pandas as pd\n",
    "import json\n",
    "import osmnx as ox\n",
    "import pyrosm\n",
    "import folium\n",
    "\n",
    "def find_edges(G, hwys):\n",
    "    edges = []\n",
    "    for u, v, k, data in G.edges(keys=True, data='highway'):\n",
    "        check1 = isinstance(data, str) and data not in hwys\n",
    "        check2 = isinstance(data, list) and all([d not in hwys for d in data])\n",
    "        if check1 or check2:\n",
    "            edges.append((u, v, k))\n",
    "    return set(edges)\n",
    "\n",
    "hwy_colors = {\n",
    "        'motorway': 'purple',\n",
    "        'trunk': 'pink',\n",
    "        'primary': 'green',\n",
    "        'secondary': 'yellow',\n",
    "        'tertiary': 'orange',\n",
    "        'unclassified': 'blue',\n",
    "        'residential': 'red',\n",
    "    }"
   ]
  },
  {
   "cell_type": "code",
   "execution_count": 2,
   "metadata": {},
   "outputs": [],
   "source": [
    "# Create request URL\n",
    "BASE_URL = \"https://api.tomtom.com/\"\n",
    "API_KEY = \"ThfURaOhGRaty7mx9AKALwrbyIZApHd8\"\n",
    "#zoom = 22\n",
    "TRAFFIC_URL = \"traffic/services/4/flowSegmentData/absolute/22/json?key=\"\n",
    "\n",
    "UNIT = \"unit=kmph\"\n",
    "ROAD_CLOSURE = \"roadClosure=True\"\n",
    "\n",
    "PARAMS = \"&\" + UNIT + \"&\" + ROAD_CLOSURE"
   ]
  },
  {
   "cell_type": "code",
   "execution_count": 3,
   "metadata": {},
   "outputs": [
    {
     "name": "stderr",
     "output_type": "stream",
     "text": [
      "/Users/khalid-alsheeb/opt/anaconda3/envs/kurf/lib/python3.10/site-packages/osmnx/utils_geo.py:280: ShapelyDeprecationWarning: Iteration over multi-part geometries is deprecated and will be removed in Shapely 2.0. Use the `geoms` property to access the constituent parts of a multi-part geometry.\n",
      "  for polygon in geometry:\n",
      "/Users/khalid-alsheeb/opt/anaconda3/envs/kurf/lib/python3.10/site-packages/osmnx/utils_geo.py:374: ShapelyDeprecationWarning: Iteration over multi-part geometries is deprecated and will be removed in Shapely 2.0. Use the `geoms` property to access the constituent parts of a multi-part geometry.\n",
      "  for poly in multipoly:\n",
      "/Users/khalid-alsheeb/opt/anaconda3/envs/kurf/lib/python3.10/site-packages/osmnx/utils_geo.py:374: ShapelyDeprecationWarning: Iteration over multi-part geometries is deprecated and will be removed in Shapely 2.0. Use the `geoms` property to access the constituent parts of a multi-part geometry.\n",
      "  for poly in multipoly:\n"
     ]
    }
   ],
   "source": [
    "ADDRESS = \"Mayfair, London\"\n",
    "G = ox.graph_from_address(ADDRESS, network_type=\"drive\", dist=400)"
   ]
  },
  {
   "cell_type": "code",
   "execution_count": null,
   "metadata": {},
   "outputs": [],
   "source": [
    "G = ox.add_edge_speeds(G)\n",
    "G = ox.add_edge_travel_times(G)\n",
    "nodes, edges = ox.graph_to_gdfs(G)\n",
    "#z = edges[edges['name'].apply(lambda x: isinstance(x, list))]\n",
    "z = edges.loc[edges['name'] == 'Berkeley Street']\n",
    "coords = list(z.iloc[0].geometry.coords)\n",
    "correct_coords = []\n",
    "for i in coords:\n",
    "    correct_coords.append((i[1], i[0]))"
   ]
  },
  {
   "cell_type": "code",
   "execution_count": null,
   "metadata": {},
   "outputs": [],
   "source": [
    "z"
   ]
  },
  {
   "cell_type": "code",
   "execution_count": null,
   "metadata": {},
   "outputs": [],
   "source": [
    "latitude = str(correct_coords[0][0])\n",
    "longitude = str(correct_coords[0][1])\n",
    "location = \"point=\" + latitude + \",\"+ longitude\n",
    "\n",
    "request_url = BASE_URL + TRAFFIC_URL + API_KEY + \"&\" + location + PARAMS\n",
    "# Get data\n",
    "response = requests.get(request_url)"
   ]
  },
  {
   "cell_type": "code",
   "execution_count": null,
   "metadata": {},
   "outputs": [],
   "source": [
    "location"
   ]
  },
  {
   "cell_type": "code",
   "execution_count": null,
   "metadata": {},
   "outputs": [],
   "source": [
    "data = response.json()['flowSegmentData']\n",
    "traffic = pd.json_normalize(data)\n",
    "traffic = traffic.rename(columns={'coordinates.coordinate': 'coordinates'})\n",
    "traffic.currentSpeed[0]\n"
   ]
  },
  {
   "cell_type": "code",
   "execution_count": null,
   "metadata": {},
   "outputs": [],
   "source": [
    "traffic"
   ]
  },
  {
   "cell_type": "code",
   "execution_count": null,
   "metadata": {},
   "outputs": [],
   "source": [
    "\n",
    "\n",
    "coordinates = pd.json_normalize( traffic.iloc[0].coordinates)\n",
    "#coordinates\n",
    "\n",
    "#coordinates[round(coordinates.latitude, 7) == 34.0529563]\n",
    "#coordinates.iloc[0].latitude\n",
    "#coordinates.iloc[1]\n",
    "coordinates.latitude = coordinates.latitude.round(7)\n",
    "coordinates.longitude = coordinates.longitude.round(7)\n",
    "\n"
   ]
  },
  {
   "cell_type": "code",
   "execution_count": null,
   "metadata": {},
   "outputs": [],
   "source": [
    "geometry = LineString([(xy)  for xy in zip(coordinates['latitude'], coordinates['longitude'])])\n",
    "#list(geometry.coords)\n"
   ]
  },
  {
   "cell_type": "code",
   "execution_count": null,
   "metadata": {},
   "outputs": [],
   "source": [
    "map = folium.Map(location=[correct_coords[0][0], correct_coords[0][1]],zoom_start=15)\n",
    "# folium.PolyLine(list(geometry.coords)).add_to(map)\n",
    "# folium.PolyLine(correct_coords).add_to(map)"
   ]
  },
  {
   "cell_type": "code",
   "execution_count": null,
   "metadata": {},
   "outputs": [],
   "source": [
    "for p in list(geometry.coords):\n",
    "    folium.Marker(p, popup=p, icon=folium.Icon(color='red')).add_to(map)\n",
    "    \n",
    "for p in correct_coords:\n",
    "    folium.Marker(p, popup=p).add_to(map)"
   ]
  },
  {
   "cell_type": "code",
   "execution_count": null,
   "metadata": {},
   "outputs": [],
   "source": [
    "map"
   ]
  },
  {
   "cell_type": "code",
   "execution_count": null,
   "metadata": {},
   "outputs": [],
   "source": [
    "correct_coords"
   ]
  },
  {
   "cell_type": "code",
   "execution_count": null,
   "metadata": {},
   "outputs": [],
   "source": []
  }
 ],
 "metadata": {
  "kernelspec": {
   "display_name": "Python 3.10.4 ('kurf')",
   "language": "python",
   "name": "python3"
  },
  "language_info": {
   "codemirror_mode": {
    "name": "ipython",
    "version": 3
   },
   "file_extension": ".py",
   "mimetype": "text/x-python",
   "name": "python",
   "nbconvert_exporter": "python",
   "pygments_lexer": "ipython3",
   "version": "3.10.4"
  },
  "orig_nbformat": 4,
  "vscode": {
   "interpreter": {
    "hash": "438d01e1222d38501203db3b1bf9b8ba9ce39f84db909b5f12abc0f9b39e6075"
   }
  }
 },
 "nbformat": 4,
 "nbformat_minor": 2
}
