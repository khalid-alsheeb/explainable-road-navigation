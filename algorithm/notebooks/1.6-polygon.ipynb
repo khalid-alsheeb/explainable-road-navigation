{
 "cells": [
  {
   "cell_type": "code",
   "execution_count": 49,
   "metadata": {},
   "outputs": [],
   "source": [
    "import networkx as nx\n",
    "import osmnx as ox\n",
    "import pandas as pd\n",
    "import geopandas as gpd\n",
    "import folium\n",
    "import numpy as np\n",
    "import matplotlib as plt\n",
    "from shapely import geometry\n",
    "from scipy.spatial import ConvexHull, convex_hull_plot_2d\n",
    "\n",
    "import matplotlib.pyplot as plt\n",
    "\n",
    "address = '30 Aldwych, London WC2B 4BG'\n",
    "G = ox.graph_from_address(address, network_type=\"drive\")\n",
    "\n",
    "nodes, edges = ox.graph_to_gdfs(G)"
   ]
  },
  {
   "cell_type": "code",
   "execution_count": 50,
   "metadata": {},
   "outputs": [],
   "source": [
    "points = list(nodes.geometry)"
   ]
  },
  {
   "cell_type": "code",
   "execution_count": 68,
   "metadata": {},
   "outputs": [],
   "source": [
    "pointList = np.asarray(list([(p.x, p.y) for p in points]))"
   ]
  },
  {
   "cell_type": "code",
   "execution_count": 69,
   "metadata": {},
   "outputs": [
    {
     "data": {
      "text/plain": [
       "array([[-0.1303251, 51.5203679],\n",
       "       [-0.11332  , 51.5215137],\n",
       "       [-0.1113814, 51.5181757],\n",
       "       ...,\n",
       "       [-0.1209443, 51.5162152],\n",
       "       [-0.1173426, 51.5145739],\n",
       "       [-0.1036707, 51.5181285]])"
      ]
     },
     "execution_count": 69,
     "metadata": {},
     "output_type": "execute_result"
    }
   ],
   "source": [
    "pointList"
   ]
  },
  {
   "cell_type": "code",
   "execution_count": 70,
   "metadata": {},
   "outputs": [],
   "source": [
    "hull = ConvexHull(pointList)\n"
   ]
  },
  {
   "cell_type": "code",
   "execution_count": 74,
   "metadata": {},
   "outputs": [],
   "source": [
    "polygon = []"
   ]
  },
  {
   "cell_type": "code",
   "execution_count": 82,
   "metadata": {},
   "outputs": [
    {
     "data": {
      "text/plain": [
       "array([215, 581,  96, 292,  98, 360,  52, 510,  25, 696, 333,  20, 559,\n",
       "       558, 311, 250, 391], dtype=int32)"
      ]
     },
     "execution_count": 82,
     "metadata": {},
     "output_type": "execute_result"
    }
   ],
   "source": [
    "hull.vertices"
   ]
  },
  {
   "cell_type": "code",
   "execution_count": 86,
   "metadata": {},
   "outputs": [],
   "source": [
    "hull_points = pointList[hull.vertices, :]"
   ]
  },
  {
   "cell_type": "code",
   "execution_count": 90,
   "metadata": {},
   "outputs": [],
   "source": [
    "correct_hull_poinnts = []\n",
    "\n",
    "for p in hull_points:\n",
    "    correct_hull_poinnts.append([p[1], p[0]])"
   ]
  },
  {
   "cell_type": "code",
   "execution_count": 91,
   "metadata": {},
   "outputs": [
    {
     "data": {
      "text/plain": [
       "[[51.5048002, -0.1030135],\n",
       " [51.5110044, -0.1027781],\n",
       " [51.5192653, -0.1030011],\n",
       " [51.521612, -0.1065756],\n",
       " [51.5217222, -0.1134957],\n",
       " [51.5217342, -0.1176652],\n",
       " [51.5214109, -0.1314657],\n",
       " [51.5154426, -0.1316153],\n",
       " [51.5095659, -0.131587],\n",
       " [51.5080763, -0.1313862],\n",
       " [51.5071559, -0.1311472],\n",
       " [51.5058624, -0.130808],\n",
       " [51.5047288, -0.1264924],\n",
       " [51.5046977, -0.1262929],\n",
       " [51.5037826, -0.111736],\n",
       " [51.5038922, -0.1087246],\n",
       " [51.5043666, -0.1044935]]"
      ]
     },
     "execution_count": 91,
     "metadata": {},
     "output_type": "execute_result"
    }
   ],
   "source": [
    "correct_hull_poinnts"
   ]
  },
  {
   "cell_type": "code",
   "execution_count": 75,
   "metadata": {},
   "outputs": [
    {
     "data": {
      "image/png": "[encoded data removed]",
      "text/plain": [
       "<Figure size 432x288 with 1 Axes>"
      ]
     },
     "metadata": {
      "needs_background": "light"
     },
     "output_type": "display_data"
    }
   ],
   "source": [
    "# plt.plot(pointList[:,0], pointList[:,1], 'o')\n",
    "for simplex in hull.simplices:\n",
    "    polygon.append([pointList[simplex, 0], pointList[simplex, 1]])\n",
    "    plt.plot(pointList[simplex, 0], pointList[simplex, 1], 'k-')"
   ]
  },
  {
   "cell_type": "code",
   "execution_count": 76,
   "metadata": {},
   "outputs": [
    {
     "data": {
      "text/plain": [
       "[[array([-0.1030135, -0.1027781]), array([51.5048002, 51.5110044])],\n",
       " [array([-0.1314657, -0.1316153]), array([51.5214109, 51.5154426])],\n",
       " [array([-0.1030011, -0.1027781]), array([51.5192653, 51.5110044])],\n",
       " [array([-0.1030011, -0.1065756]), array([51.5192653, 51.521612 ])],\n",
       " [array([-0.131587 , -0.1316153]), array([51.5095659, 51.5154426])],\n",
       " [array([-0.1262929, -0.111736 ]), array([51.5046977, 51.5037826])],\n",
       " [array([-0.1044935, -0.1030135]), array([51.5043666, 51.5048002])],\n",
       " [array([-0.1176652, -0.1314657]), array([51.5217342, 51.5214109])],\n",
       " [array([-0.1313862, -0.131587 ]), array([51.5080763, 51.5095659])],\n",
       " [array([-0.1264924, -0.130808 ]), array([51.5047288, 51.5058624])],\n",
       " [array([-0.1264924, -0.1262929]), array([51.5047288, 51.5046977])],\n",
       " [array([-0.1087246, -0.111736 ]), array([51.5038922, 51.5037826])],\n",
       " [array([-0.1087246, -0.1044935]), array([51.5038922, 51.5043666])],\n",
       " [array([-0.1134957, -0.1065756]), array([51.5217222, 51.521612 ])],\n",
       " [array([-0.1134957, -0.1176652]), array([51.5217222, 51.5217342])],\n",
       " [array([-0.1311472, -0.130808 ]), array([51.5071559, 51.5058624])],\n",
       " [array([-0.1311472, -0.1313862]), array([51.5071559, 51.5080763])]]"
      ]
     },
     "execution_count": 76,
     "metadata": {},
     "output_type": "execute_result"
    }
   ],
   "source": [
    "polygon"
   ]
  },
  {
   "cell_type": "code",
   "execution_count": null,
   "metadata": {},
   "outputs": [],
   "source": [
    "m = folium.Map(location=[51.5126962992232, -0.11711526623945342], zoom_start=15)\n",
    "m"
   ]
  },
  {
   "cell_type": "code",
   "execution_count": null,
   "metadata": {},
   "outputs": [],
   "source": [
    "# sim_geo = gpd.GeoSeries(poly).simplify(tolerance=0.001)\n",
    "# geo_j = sim_geo.to_json()\n",
    "# geo_j = folium.GeoJson(data=geo_j,\n",
    "#                         style_function=lambda x: {'fillColor': 'orange'})\n",
    "# geo_j.add_to(m)"
   ]
  },
  {
   "cell_type": "code",
   "execution_count": null,
   "metadata": {},
   "outputs": [],
   "source": [
    "x_coordinates, y_coordinates = zip(*pointList)\n",
    "\n",
    "bbox = [(min(x_coordinates), min(y_coordinates)), (max(x_coordinates), max(y_coordinates))]"
   ]
  },
  {
   "cell_type": "code",
   "execution_count": null,
   "metadata": {},
   "outputs": [],
   "source": []
  },
  {
   "cell_type": "code",
   "execution_count": null,
   "metadata": {},
   "outputs": [],
   "source": [
    "m"
   ]
  },
  {
   "cell_type": "code",
   "execution_count": null,
   "metadata": {},
   "outputs": [],
   "source": []
  }
 ],
 "metadata": {
  "kernelspec": {
   "display_name": "Python 3.10.5 ('kurf')",
   "language": "python",
   "name": "python3"
  },
  "language_info": {
   "codemirror_mode": {
    "name": "ipython",
    "version": 3
   },
   "file_extension": ".py",
   "mimetype": "text/x-python",
   "name": "python",
   "nbconvert_exporter": "python",
   "pygments_lexer": "ipython3",
   "version": "3.10.5"
  },
  "orig_nbformat": 4,
  "vscode": {
   "interpreter": {
    "hash": "438d01e1222d38501203db3b1bf9b8ba9ce39f84db909b5f12abc0f9b39e6075"
   }
  }
 },
 "nbformat": 4,
 "nbformat_minor": 2
}
