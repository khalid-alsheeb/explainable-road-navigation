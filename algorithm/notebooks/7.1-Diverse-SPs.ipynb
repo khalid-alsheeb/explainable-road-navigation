{
 "cells": [
  {
   "cell_type": "code",
   "execution_count": 84,
   "metadata": {},
   "outputs": [],
   "source": [
    "#Taken from \"A Heuristic Approach to Finding Diverse Short Paths\" (Caleb Voss, Mark Moll, and Lydia E. Kavraki)\n",
    "\n",
    "# Imports\n",
    "import networkx as nx\n",
    "import numpy as np\n",
    "import cvxpy as cp\n",
    "import math\n",
    "import osmnx as  ox\n",
    "\n",
    "def diverseShortestPaths(graph, source, target, numberOfPaths, branchingFactor, ballRadius):\n",
    "    # FIFO Queue  (append & pop(0))\n",
    "    shortestPath_graph_pairs = []\n",
    "    # A set of k-diverse SPs\n",
    "    shortestPaths = []\n",
    "    \n",
    "    shortestPath = getShortestPath(graph, source, target)\n",
    "        \n",
    "    if (len(shortestPath) != 0 ):\n",
    "        shortestPath_graph_pairs.append((shortestPath, graph))\n",
    "        shortestPaths.append(shortestPath)\n",
    "        \n",
    "    while (len(shortestPath_graph_pairs) != 0):\n",
    "        pair = shortestPath_graph_pairs.pop(0)\n",
    "        shortestPath = pair[0]\n",
    "        graph = pair[1]\n",
    "        \n",
    "        for i in range(branchingFactor):\n",
    "            sampledEdge = edgeSampling(graph, shortestPath)\n",
    "            \n",
    "            nodes, edges = ox.graph_to_gdfs(graph)\n",
    "            \n",
    "            newEdges = getNewEdges(edges, sampledEdge, ballRadius)\n",
    "            \n",
    "            newGraph = ox.graph_from_gdfs(nodes, newEdges)\n",
    "            \n",
    "            newShortestPath = getShortestPath(newGraph, source, target)\n",
    "            \n",
    "            if (len(shortestPath) != 0):\n",
    "                shortestPath_graph_pairs.append((shortestPath, newGraph))\n",
    "            \n",
    "            #TODO\n",
    "            if (True): #NO CRITERIA, FOR NOW. (ACCEPT ALL)\n",
    "                shortestPaths.append(newShortestPath)\n",
    "                \n",
    "            if (len(shortestPaths) == numberOfPaths):\n",
    "                return shortestPaths\n",
    "            \n",
    "    return shortestPaths\n",
    "\n",
    "\n",
    "def edgeSampling(graph, path):\n",
    "    pathWeight = getPathWeight(path, graph)\n",
    "    probability_distribution = []\n",
    "    edges = []\n",
    "    \n",
    "    for i in range(len(path) - 1):\n",
    "        j = i + 1\n",
    "        source = path[i]\n",
    "        target = path[j]\n",
    "        edges.append((source, target))\n",
    "        \n",
    "        edgeWeight = graph[source][target][0]['weight']\n",
    "        \n",
    "        probability_distribution.append(edgeWeight / pathWeight)\n",
    "        \n",
    "    edge = np.choice(edges, 1,\n",
    "              p=probability_distribution, replace=False)\n",
    "    \n",
    "    return edge    \n",
    "    \n",
    "\n",
    "def getNewEdges(oldEdges, sampledEdge, ballRadius):\n",
    "    distances = oldEdges.apply(getMinDistance, args=(sampledEdge, ), axis=1)\n",
    "    mask = distances > ballRadius\n",
    "    newEdges = oldEdges[mask]\n",
    "    \n",
    "    return newEdges\n",
    "\n",
    "\n",
    "# only intersects if both have the same nnode, so no need to consider other intersection cases\n",
    "def getMinDistance(edge1, edge2):\n",
    "    points1 = list(edge1['geometry'].coords)\n",
    "    points2 = list(edge2['geometry'].coords)\n",
    "    minDistance = float('inf')\n",
    "    \n",
    "    for i in range(len(points1)):\n",
    "        point1 = points1[i]\n",
    "        for j in range(len(points2)):\n",
    "            point2 = points2[j]\n",
    "            distance = getDistance(point1, point2)\n",
    "            if (distance < minDistance):\n",
    "                minDistance = distance\n",
    "    \n",
    "    return minDistance\n",
    "\n",
    "\n",
    "def getDistance(point1, point2):\n",
    "    return math.sqrt((point1[0] - point2[0])**2 + (point1[1] - point2[1])**2)\n",
    "\n",
    "\n",
    "def getShortestPath(graph, source, target):\n",
    "    try:\n",
    "        shortestPath = nx.shortest_path(graph, source=source, target=target, weight=\"weight\")\n",
    "    except:\n",
    "        shortestPath = []\n",
    "        \n",
    "    return shortestPath\n",
    "\n",
    "\n",
    "def getPathWeight(path, graph):\n",
    "    weights = 0\n",
    "    for i in range(len(path) - 1):\n",
    "        j = i + 1\n",
    "        source = path[i]\n",
    "        target = path[j]\n",
    "        weights += graph[source][target][0]['weight']\n",
    "        \n",
    "    return weights\n",
    "        "
   ]
  },
  {
   "cell_type": "code",
   "execution_count": 85,
   "metadata": {},
   "outputs": [],
   "source": [
    "address = '30 Aldwych, London WC2B 4BG'\n",
    "G = ox.graph_from_address(address, network_type=\"drive\")"
   ]
  },
  {
   "cell_type": "code",
   "execution_count": 87,
   "metadata": {},
   "outputs": [],
   "source": [
    "desired_path = [1696030874, 109753, 1617512815, 1707216637, 21392100, 109757, 1707216642, 25472888, 1707216646, 1678452728, 4879371166, 4421008555, 4421008566, 4034060018, 367102039, 4166662878, 26374229, 25378124, 107698, 6139961783, 107697, 282569739]"
   ]
  },
  {
   "cell_type": "code",
   "execution_count": 89,
   "metadata": {},
   "outputs": [
    {
     "ename": "KeyError",
     "evalue": "'weight'",
     "output_type": "error",
     "traceback": [
      "\u001b[0;31m---------------------------------------------------------------------------\u001b[0m",
      "\u001b[0;31mKeyError\u001b[0m                                  Traceback (most recent call last)",
      "\u001b[1;32m/Users/khalid-alsheeb/Dev/kurf/algorithm/notebooks/7.1-Diverse-SPs.ipynb Cell 4\u001b[0m in \u001b[0;36m<cell line: 1>\u001b[0;34m()\u001b[0m\n\u001b[0;32m----> <a href='vscode-notebook-cell:/Users/khalid-alsheeb/Dev/kurf/algorithm/notebooks/7.1-Diverse-SPs.ipynb#ch0000017?line=0'>1</a>\u001b[0m s \u001b[39m=\u001b[39m diverseShortestPaths(G, desired_path[\u001b[39m0\u001b[39;49m], desired_path[\u001b[39m-\u001b[39;49m\u001b[39m1\u001b[39;49m], \u001b[39m5\u001b[39;49m, \u001b[39m10\u001b[39;49m, \u001b[39m0.02\u001b[39;49m)\n",
      "\u001b[1;32m/Users/khalid-alsheeb/Dev/kurf/algorithm/notebooks/7.1-Diverse-SPs.ipynb Cell 4\u001b[0m in \u001b[0;36mdiverseShortestPaths\u001b[0;34m(graph, source, target, numberOfPaths, branchingFactor, ballRadius)\u001b[0m\n\u001b[1;32m     <a href='vscode-notebook-cell:/Users/khalid-alsheeb/Dev/kurf/algorithm/notebooks/7.1-Diverse-SPs.ipynb#ch0000017?line=24'>25</a>\u001b[0m graph \u001b[39m=\u001b[39m pair[\u001b[39m1\u001b[39m]\n\u001b[1;32m     <a href='vscode-notebook-cell:/Users/khalid-alsheeb/Dev/kurf/algorithm/notebooks/7.1-Diverse-SPs.ipynb#ch0000017?line=26'>27</a>\u001b[0m \u001b[39mfor\u001b[39;00m i \u001b[39min\u001b[39;00m \u001b[39mrange\u001b[39m(branchingFactor):\n\u001b[0;32m---> <a href='vscode-notebook-cell:/Users/khalid-alsheeb/Dev/kurf/algorithm/notebooks/7.1-Diverse-SPs.ipynb#ch0000017?line=27'>28</a>\u001b[0m     sampledEdge \u001b[39m=\u001b[39m edgeSampling(graph, shortestPath)\n\u001b[1;32m     <a href='vscode-notebook-cell:/Users/khalid-alsheeb/Dev/kurf/algorithm/notebooks/7.1-Diverse-SPs.ipynb#ch0000017?line=29'>30</a>\u001b[0m     nodes, edges \u001b[39m=\u001b[39m ox\u001b[39m.\u001b[39mgraph_to_gdfs(graph)\n\u001b[1;32m     <a href='vscode-notebook-cell:/Users/khalid-alsheeb/Dev/kurf/algorithm/notebooks/7.1-Diverse-SPs.ipynb#ch0000017?line=31'>32</a>\u001b[0m     newEdges \u001b[39m=\u001b[39m getNewEdges(edges, sampledEdge, ballRadius)\n",
      "\u001b[1;32m/Users/khalid-alsheeb/Dev/kurf/algorithm/notebooks/7.1-Diverse-SPs.ipynb Cell 4\u001b[0m in \u001b[0;36medgeSampling\u001b[0;34m(graph, path)\u001b[0m\n\u001b[1;32m     <a href='vscode-notebook-cell:/Users/khalid-alsheeb/Dev/kurf/algorithm/notebooks/7.1-Diverse-SPs.ipynb#ch0000017?line=50'>51</a>\u001b[0m \u001b[39mdef\u001b[39;00m \u001b[39medgeSampling\u001b[39m(graph, path):\n\u001b[0;32m---> <a href='vscode-notebook-cell:/Users/khalid-alsheeb/Dev/kurf/algorithm/notebooks/7.1-Diverse-SPs.ipynb#ch0000017?line=51'>52</a>\u001b[0m     pathWeight \u001b[39m=\u001b[39m getPathWeight(path, graph)\n\u001b[1;32m     <a href='vscode-notebook-cell:/Users/khalid-alsheeb/Dev/kurf/algorithm/notebooks/7.1-Diverse-SPs.ipynb#ch0000017?line=52'>53</a>\u001b[0m     probability_distribution \u001b[39m=\u001b[39m []\n\u001b[1;32m     <a href='vscode-notebook-cell:/Users/khalid-alsheeb/Dev/kurf/algorithm/notebooks/7.1-Diverse-SPs.ipynb#ch0000017?line=53'>54</a>\u001b[0m     edges \u001b[39m=\u001b[39m []\n",
      "\u001b[1;32m/Users/khalid-alsheeb/Dev/kurf/algorithm/notebooks/7.1-Diverse-SPs.ipynb Cell 4\u001b[0m in \u001b[0;36mgetPathWeight\u001b[0;34m(path, graph)\u001b[0m\n\u001b[1;32m    <a href='vscode-notebook-cell:/Users/khalid-alsheeb/Dev/kurf/algorithm/notebooks/7.1-Diverse-SPs.ipynb#ch0000017?line=113'>114</a>\u001b[0m     source \u001b[39m=\u001b[39m path[i]\n\u001b[1;32m    <a href='vscode-notebook-cell:/Users/khalid-alsheeb/Dev/kurf/algorithm/notebooks/7.1-Diverse-SPs.ipynb#ch0000017?line=114'>115</a>\u001b[0m     target \u001b[39m=\u001b[39m path[j]\n\u001b[0;32m--> <a href='vscode-notebook-cell:/Users/khalid-alsheeb/Dev/kurf/algorithm/notebooks/7.1-Diverse-SPs.ipynb#ch0000017?line=115'>116</a>\u001b[0m     weights \u001b[39m+\u001b[39m\u001b[39m=\u001b[39m graph[source][target][\u001b[39m0\u001b[39;49m][\u001b[39m'\u001b[39;49m\u001b[39mweight\u001b[39;49m\u001b[39m'\u001b[39;49m]\n\u001b[1;32m    <a href='vscode-notebook-cell:/Users/khalid-alsheeb/Dev/kurf/algorithm/notebooks/7.1-Diverse-SPs.ipynb#ch0000017?line=117'>118</a>\u001b[0m \u001b[39mreturn\u001b[39;00m weights\n",
      "\u001b[0;31mKeyError\u001b[0m: 'weight'"
     ]
    }
   ],
   "source": [
    "s = diverseShortestPaths(G, desired_path[0], desired_path[-1], 5, 10, 0.02)"
   ]
  },
  {
   "cell_type": "code",
   "execution_count": 3,
   "metadata": {},
   "outputs": [],
   "source": [
    "nodes, edges = ox.graph_to_gdfs(G)"
   ]
  },
  {
   "cell_type": "code",
   "execution_count": 94,
   "metadata": {},
   "outputs": [
    {
     "ename": "ValueError",
     "evalue": "The truth value of an array with more than one element is ambiguous. Use a.any() or a.all()",
     "output_type": "error",
     "traceback": [
      "\u001b[0;31m---------------------------------------------------------------------------\u001b[0m",
      "\u001b[0;31mValueError\u001b[0m                                Traceback (most recent call last)",
      "\u001b[1;32m/Users/khalid-alsheeb/Dev/kurf/algorithm/notebooks/7.1-Diverse-SPs.ipynb Cell 6\u001b[0m in \u001b[0;36m<cell line: 1>\u001b[0;34m()\u001b[0m\n\u001b[0;32m----> <a href='vscode-notebook-cell:/Users/khalid-alsheeb/Dev/kurf/algorithm/notebooks/7.1-Diverse-SPs.ipynb#ch0000019?line=0'>1</a>\u001b[0m edges[edges\u001b[39m.\u001b[39mindex\u001b[39m.\u001b[39mget_level_values(\u001b[39m'\u001b[39m\u001b[39mu\u001b[39m\u001b[39m'\u001b[39m) \u001b[39m==\u001b[39m \u001b[39m104302\u001b[39m \u001b[39mand\u001b[39;00m edges\u001b[39m.\u001b[39mindex\u001b[39m.\u001b[39mget_level_values(\u001b[39m'\u001b[39m\u001b[39mv\u001b[39m\u001b[39m'\u001b[39m) \u001b[39m==\u001b[39m \u001b[39m107844\u001b[39m]\n",
      "\u001b[0;31mValueError\u001b[0m: The truth value of an array with more than one element is ambiguous. Use a.any() or a.all()"
     ]
    }
   ],
   "source": [
    "edges[edges.index.get_level_values('u') == 104302 and edges.index.get_level_values('v') == 107844]"
   ]
  },
  {
   "cell_type": "code",
   "execution_count": 99,
   "metadata": {},
   "outputs": [
    {
     "name": "stderr",
     "output_type": "stream",
     "text": [
      "/var/folders/gw/jkn0nk5s0rdcwm1bz4hpz41h0000gn/T/ipykernel_11600/3452099121.py:1: PerformanceWarning: indexing past lexsort depth may impact performance.\n",
      "  edges.loc[(104302, 107844)].iloc[0]\n"
     ]
    },
    {
     "data": {
      "text/plain": [
       "osmid                                                 2644235\n",
       "oneway                                                   True\n",
       "name                                            Keppel Street\n",
       "highway                                           residential\n",
       "maxspeed                                               20 mph\n",
       "reversed                                                False\n",
       "length                                                 69.735\n",
       "geometry    LINESTRING (-0.1303251 51.5203679, -0.1302613 ...\n",
       "lanes                                                     NaN\n",
       "ref                                                       NaN\n",
       "tunnel                                                    NaN\n",
       "access                                                    NaN\n",
       "junction                                                  NaN\n",
       "bridge                                                    NaN\n",
       "Name: 0, dtype: object"
      ]
     },
     "execution_count": 99,
     "metadata": {},
     "output_type": "execute_result"
    }
   ],
   "source": [
    "edges.loc[(104302, 107844)].iloc[0]"
   ]
  },
  {
   "cell_type": "code",
   "execution_count": 14,
   "metadata": {},
   "outputs": [
    {
     "name": "stdout",
     "output_type": "stream",
     "text": [
      "926\n",
      "927\n"
     ]
    }
   ],
   "source": [
    "# 0(pin):1611771529\n",
    "# 1(pin):1611771530\n",
    "# edges[edges.index]\n",
    "#edges['geometry']\n",
    "\n",
    "for i in range(len(edges.index)):\n",
    "    z = edges.index[i]\n",
    "    z1 = z[0]\n",
    "    z2 = z[1]\n",
    "    if z1 == 1611771529 and z2 == 1611771530:\n",
    "        print(i)"
   ]
  },
  {
   "cell_type": "code",
   "execution_count": 22,
   "metadata": {},
   "outputs": [],
   "source": [
    "points = list(edges.iloc[926]['geometry'].coords)"
   ]
  },
  {
   "cell_type": "code",
   "execution_count": 23,
   "metadata": {},
   "outputs": [
    {
     "data": {
      "text/plain": [
       "0.00043214342526299996"
      ]
     },
     "execution_count": 23,
     "metadata": {},
     "output_type": "execute_result"
    }
   ],
   "source": [
    "getDistance(points[0], points[1])"
   ]
  },
  {
   "cell_type": "code",
   "execution_count": 20,
   "metadata": {},
   "outputs": [],
   "source": [
    "def getDistance(point1, point2):\n",
    "    return math.sqrt((point1[0] - point2[0])**2 + (point1[1] - point2[1])**2)"
   ]
  },
  {
   "cell_type": "code",
   "execution_count": 58,
   "metadata": {},
   "outputs": [],
   "source": [
    "# only intersects if both have the same nnode, so no need to consider other intersection cases\n",
    "def getMinDistance(edge1, edge2):\n",
    "    points1 = list(edge1['geometry'].coords)\n",
    "    points2 = list(edge2['geometry'].coords)\n",
    "    \n",
    "    minDistance = float('inf')\n",
    "    \n",
    "    for i in range(len(points1)):\n",
    "        point1 = points1[i]\n",
    "        for j in range(len(points2)):\n",
    "            point2 = points2[j]\n",
    "            distance = getDistance(point1, point2)\n",
    "            if (distance < minDistance):\n",
    "                minDistance = distance\n",
    "    \n",
    "    return minDistance"
   ]
  },
  {
   "cell_type": "code",
   "execution_count": 59,
   "metadata": {},
   "outputs": [
    {
     "data": {
      "text/plain": [
       "0.0"
      ]
     },
     "execution_count": 59,
     "metadata": {},
     "output_type": "execute_result"
    }
   ],
   "source": [
    "edge1 = edges.iloc[0]\n",
    "edge2 = edges.iloc[1]\n",
    "\n",
    "getMinDistance(edge1, edge2)"
   ]
  },
  {
   "cell_type": "code",
   "execution_count": 66,
   "metadata": {},
   "outputs": [],
   "source": [
    "def getNewEdges(oldEdges, sampledEdge, ballRadius):\n",
    "    distances = oldEdges.apply(getMinDistance, args=(sampledEdge, ), axis=1)\n",
    "    mask = distances > ballRadius\n",
    "    newEdges = oldEdges[mask]\n",
    "    \n",
    "    return newEdges\n"
   ]
  },
  {
   "cell_type": "code",
   "execution_count": 81,
   "metadata": {},
   "outputs": [],
   "source": [
    "newEdges = getNewEdges(edges, edge1, 0.02)"
   ]
  },
  {
   "cell_type": "code",
   "execution_count": 82,
   "metadata": {},
   "outputs": [
    {
     "name": "stdout",
     "output_type": "stream",
     "text": [
      "1440 474\n"
     ]
    }
   ],
   "source": [
    "print(len(edges), len(newEdges))"
   ]
  },
  {
   "cell_type": "code",
   "execution_count": null,
   "metadata": {},
   "outputs": [],
   "source": []
  }
 ],
 "metadata": {
  "kernelspec": {
   "display_name": "Python 3.10.5 ('kurf')",
   "language": "python",
   "name": "python3"
  },
  "language_info": {
   "codemirror_mode": {
    "name": "ipython",
    "version": 3
   },
   "file_extension": ".py",
   "mimetype": "text/x-python",
   "name": "python",
   "nbconvert_exporter": "python",
   "pygments_lexer": "ipython3",
   "version": "3.10.5"
  },
  "orig_nbformat": 4,
  "vscode": {
   "interpreter": {
    "hash": "438d01e1222d38501203db3b1bf9b8ba9ce39f84db909b5f12abc0f9b39e6075"
   }
  }
 },
 "nbformat": 4,
 "nbformat_minor": 2
}
