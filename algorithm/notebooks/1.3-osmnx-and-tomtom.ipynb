{
 "cells": [
  {
   "cell_type": "code",
   "execution_count": 1,
   "metadata": {},
   "outputs": [],
   "source": [
    "import requests\n",
    "from shapely.geometry import LineString\n",
    "import pandas as pd\n",
    "import json\n",
    "import osmnx as ox\n",
    "import pyrosm\n",
    "import folium\n",
    "import numpy as np\n",
    "import networkx as nx\n",
    "\n",
    "ox.__version__\n",
    "\n",
    "useful_tags_path = ['bridge', 'tunnel', 'oneway', 'lanes', 'ref', 'name',\n",
    "                    'highway', 'maxspeed', 'service', 'access', 'area',\n",
    "                    'landuse', 'width', 'est_width', 'junction', 'traffic_signals']\n",
    "ox.utils.config(useful_tags_path)"
   ]
  },
  {
   "cell_type": "code",
   "execution_count": 2,
   "metadata": {},
   "outputs": [],
   "source": [
    "def get_full_traffic_data(G):\n",
    "    \n",
    "    nodes, edges = ox.graph_to_gdfs(G)\n",
    "    \n",
    "    edges.name = (edges.name).astype(str)\n",
    "    \n",
    "    names = edges.name.unique()\n",
    "    \n",
    "    for name in names:\n",
    "        get_specific_traffic_data(edges, name)\n",
    "        \n",
    "    new_attrs = ['current_speed_kmph', 'free_flow_speed_kmph', 'traffic_confidence', 'road_closure']\n",
    "    for attr in new_attrs:\n",
    "        nx.set_edge_attributes(G, edges[attr], attr)\n",
    "        \n",
    "\n",
    "def get_specific_traffic_data(edges, name):\n",
    "    # Create request URL\n",
    "    BASE_URL = \"https://api.tomtom.com/\"\n",
    "    API_KEY = \"ThfURaOhGRaty7mx9AKALwrbyIZApHd8\"\n",
    "    #zoom = 22\n",
    "    TRAFFIC_URL = \"traffic/services/4/flowSegmentData/absolute/22/json?key=\"\n",
    "    UNIT = \"unit=kmph\"\n",
    "    ROAD_CLOSURE = \"roadClosure=True\"\n",
    "    PARAMS = \"&\" + UNIT + \"&\" + ROAD_CLOSURE\n",
    "    \n",
    "    coordinates = list(edges.loc[edges['name'] == name].iloc[0].geometry.coords)[0]\n",
    "    longitude = str(coordinates[0])\n",
    "    latitude = str(coordinates[1])\n",
    "    location = \"point=\" + latitude + \",\"+ longitude\n",
    "\n",
    "    request_url = BASE_URL + TRAFFIC_URL + API_KEY + \"&\" + location + PARAMS\n",
    "    # Get data\n",
    "    response = requests.get(request_url)\n",
    "    data = response.json()['flowSegmentData']\n",
    "    traffic = pd.json_normalize(data)\n",
    "    \n",
    "    edges.loc[edges['name'] == name, 'road_type'] = traffic.frc[0]\n",
    "    edges.loc[edges['name'] == name, 'current_speed_kmph'] = traffic.currentSpeed[0]\n",
    "    edges.loc[edges['name'] == name, 'free_flow_speed_kmph'] = traffic.freeFlowSpeed[0]\n",
    "    edges.loc[edges['name'] == name, 'traffic_confidence'] = traffic.confidence[0]\n",
    "    edges.loc[edges['name'] == name, 'road_closure'] = traffic.roadClosure[0]"
   ]
  },
  {
   "cell_type": "code",
   "execution_count": 3,
   "metadata": {},
   "outputs": [
    {
     "name": "stderr",
     "output_type": "stream",
     "text": [
      "/Users/khalid-alsheeb/opt/anaconda3/envs/kurf/lib/python3.10/site-packages/osmnx/utils_geo.py:280: ShapelyDeprecationWarning: Iteration over multi-part geometries is deprecated and will be removed in Shapely 2.0. Use the `geoms` property to access the constituent parts of a multi-part geometry.\n",
      "  for polygon in geometry:\n",
      "/Users/khalid-alsheeb/opt/anaconda3/envs/kurf/lib/python3.10/site-packages/osmnx/utils_geo.py:374: ShapelyDeprecationWarning: Iteration over multi-part geometries is deprecated and will be removed in Shapely 2.0. Use the `geoms` property to access the constituent parts of a multi-part geometry.\n",
      "  for poly in multipoly:\n",
      "/Users/khalid-alsheeb/opt/anaconda3/envs/kurf/lib/python3.10/site-packages/osmnx/utils_geo.py:374: ShapelyDeprecationWarning: Iteration over multi-part geometries is deprecated and will be removed in Shapely 2.0. Use the `geoms` property to access the constituent parts of a multi-part geometry.\n",
      "  for poly in multipoly:\n"
     ]
    }
   ],
   "source": [
    "ADDRESS = '30 Aldwych, London WC2B 4BG'\n",
    "G = ox.graph_from_address(ADDRESS , network_type=\"drive\", dist=2000)"
   ]
  },
  {
   "cell_type": "code",
   "execution_count": 4,
   "metadata": {},
   "outputs": [],
   "source": [
    "get_full_traffic_data(G)"
   ]
  },
  {
   "cell_type": "code",
   "execution_count": null,
   "metadata": {},
   "outputs": [],
   "source": [
    "ox.plot_graph_folium(G, popup_attribute='current_speed_kmph')"
   ]
  },
  {
   "cell_type": "code",
   "execution_count": null,
   "metadata": {},
   "outputs": [],
   "source": [
    "edges"
   ]
  },
  {
   "cell_type": "code",
   "execution_count": 5,
   "metadata": {},
   "outputs": [],
   "source": [
    "ox.save_graphml(G)"
   ]
  },
  {
   "cell_type": "code",
   "execution_count": null,
   "metadata": {},
   "outputs": [],
   "source": []
  }
 ],
 "metadata": {
  "kernelspec": {
   "display_name": "Python 3.10.4 ('kurf')",
   "language": "python",
   "name": "python3"
  },
  "language_info": {
   "codemirror_mode": {
    "name": "ipython",
    "version": 3
   },
   "file_extension": ".py",
   "mimetype": "text/x-python",
   "name": "python",
   "nbconvert_exporter": "python",
   "pygments_lexer": "ipython3",
   "version": "3.10.5"
  },
  "orig_nbformat": 4,
  "vscode": {
   "interpreter": {
    "hash": "438d01e1222d38501203db3b1bf9b8ba9ce39f84db909b5f12abc0f9b39e6075"
   }
  }
 },
 "nbformat": 4,
 "nbformat_minor": 2
}
