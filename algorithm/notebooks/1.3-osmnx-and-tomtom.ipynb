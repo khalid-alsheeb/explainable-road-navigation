{
 "cells": [
  {
   "cell_type": "code",
   "execution_count": null,
   "metadata": {},
   "outputs": [],
   "source": [
    "import requests\n",
    "from shapely.geometry import LineString\n",
    "import pandas as pd\n",
    "import json\n",
    "import osmnx as ox\n",
    "import pyrosm\n",
    "import folium\n",
    "import numpy as np\n",
    "\n",
    "ox.__version__\n",
    "\n",
    "useful_tags_path = ['bridge', 'tunnel', 'oneway', 'lanes', 'ref', 'name',\n",
    "                    'highway', 'maxspeed', 'service', 'access', 'area',\n",
    "                    'landuse', 'width', 'est_width', 'junction', 'traffic_signals']\n",
    "ox.utils.config(useful_tags_path)"
   ]
  },
  {
   "cell_type": "code",
   "execution_count": null,
   "metadata": {},
   "outputs": [],
   "source": [
    "ADDRESS = \"Mayfair, London\"\n",
    "G = ox.graph_from_address(ADDRESS, network_type=\"drive\", dist=300)"
   ]
  },
  {
   "cell_type": "code",
   "execution_count": null,
   "metadata": {},
   "outputs": [],
   "source": [
    "nodes, edges = ox.graph_to_gdfs(G)"
   ]
  },
  {
   "cell_type": "markdown",
   "metadata": {},
   "source": []
  },
  {
   "cell_type": "code",
   "execution_count": null,
   "metadata": {},
   "outputs": [],
   "source": [
    "def get_full_traffic_data(edges):\n",
    "    \n",
    "    names = edges.name.value_counts().index\n",
    "    \n",
    "    for name in names:\n",
    "        get_specific_traffic_data(edges, name)\n",
    "        \n",
    "    return edges\n",
    "\n",
    "def get_specific_traffic_data(edges, name):\n",
    "    # Create request URL\n",
    "    BASE_URL = \"https://api.tomtom.com/\"\n",
    "    API_KEY = \"ThfURaOhGRaty7mx9AKALwrbyIZApHd8\"\n",
    "    #zoom = 22\n",
    "    TRAFFIC_URL = \"traffic/services/4/flowSegmentData/absolute/22/json?key=\"\n",
    "    UNIT = \"unit=kmph\"\n",
    "    ROAD_CLOSURE = \"roadClosure=True\"\n",
    "    PARAMS = \"&\" + UNIT + \"&\" + ROAD_CLOSURE\n",
    "    \n",
    "    coordinates = list(edges.loc[edges['name'] == name].iloc[0].geometry.coords)[0]\n",
    "    longitude = str(coordinates[0])\n",
    "    latitude = str(coordinates[1])\n",
    "    location = \"point=\" + latitude + \",\"+ longitude\n",
    "\n",
    "    request_url = BASE_URL + TRAFFIC_URL + API_KEY + \"&\" + location + PARAMS\n",
    "    # Get data\n",
    "    response = requests.get(request_url)\n",
    "    data = response.json()['flowSegmentData']\n",
    "    traffic = pd.json_normalize(data)\n",
    "    \n",
    "    edges.loc[edges['name'] == name, 'road_type'] = traffic.frc[0]\n",
    "    edges.loc[edges['name'] == name, 'current_speed_kmph'] = traffic.currentSpeed[0]\n",
    "    edges.loc[edges['name'] == name, 'free_flow_speed_kmph'] = traffic.freeFlowSpeed[0]\n",
    "    edges.loc[edges['name'] == name, 'traffic_confidence'] = traffic.confidence[0]\n",
    "    edges.loc[edges['name'] == name, 'road_closure'] = traffic.roadClosure[0]"
   ]
  },
  {
   "cell_type": "code",
   "execution_count": null,
   "metadata": {},
   "outputs": [],
   "source": [
    "#edges.loc[edges['name'] == 'Davies Street']\n",
    "edges"
   ]
  },
  {
   "cell_type": "code",
   "execution_count": null,
   "metadata": {},
   "outputs": [],
   "source": [
    "get_specific_traffic_data(edges, \"Davies Street\")"
   ]
  },
  {
   "cell_type": "code",
   "execution_count": null,
   "metadata": {},
   "outputs": [],
   "source": [
    "#edges.loc[edges['name'] == 'Davies Street']\n",
    "edges"
   ]
  },
  {
   "cell_type": "code",
   "execution_count": null,
   "metadata": {},
   "outputs": [],
   "source": [
    "#print(edges.name.value_counts())"
   ]
  },
  {
   "cell_type": "code",
   "execution_count": null,
   "metadata": {},
   "outputs": [],
   "source": [
    "#edges.loc[edges['name'].astype(str) == ['Hanover Square', 'Brook Street']]\n",
    "# z = edges[edges['name'].apply(lambda x: isinstance(x, list))]\n",
    "# z"
   ]
  },
  {
   "cell_type": "code",
   "execution_count": null,
   "metadata": {},
   "outputs": [],
   "source": [
    "# names = edges.name.value_counts().index\n",
    "# names"
   ]
  },
  {
   "cell_type": "code",
   "execution_count": null,
   "metadata": {},
   "outputs": [],
   "source": []
  }
 ],
 "metadata": {
  "kernelspec": {
   "display_name": "Python 3.10.4 ('kurf')",
   "language": "python",
   "name": "python3"
  },
  "language_info": {
   "codemirror_mode": {
    "name": "ipython",
    "version": 3
   },
   "file_extension": ".py",
   "mimetype": "text/x-python",
   "name": "python",
   "nbconvert_exporter": "python",
   "pygments_lexer": "ipython3",
   "version": "3.10.4"
  },
  "orig_nbformat": 4,
  "vscode": {
   "interpreter": {
    "hash": "438d01e1222d38501203db3b1bf9b8ba9ce39f84db909b5f12abc0f9b39e6075"
   }
  }
 },
 "nbformat": 4,
 "nbformat_minor": 2
}
